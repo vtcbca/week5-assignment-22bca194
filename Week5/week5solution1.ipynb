{
 "cells": [
  {
   "cell_type": "code",
   "execution_count": 1,
   "id": "91d973b0",
   "metadata": {},
   "outputs": [],
   "source": [
    "import csv"
   ]
  },
  {
   "cell_type": "code",
   "execution_count": 2,
   "id": "83e78ad4",
   "metadata": {},
   "outputs": [],
   "source": [
    "a=['sid','sname','city','contact']"
   ]
  },
  {
   "cell_type": "code",
   "execution_count": 3,
   "id": "6770c868",
   "metadata": {},
   "outputs": [],
   "source": [
    "records=[[1,'raj','bharuch',9632591232],\n",
    "         [2,'ved','bardoli',9785785429],\n",
    "         [3,'om','surat',8485963218],\n",
    "         [4,'ved','baroda',9863521478],\n",
    "         [5,'trith','valod',9930452161]]\n",
    "p=[]"
   ]
  },
  {
   "cell_type": "code",
   "execution_count": 4,
   "id": "75f8ae18",
   "metadata": {},
   "outputs": [
    {
     "name": "stdout",
     "output_type": "stream",
     "text": [
      "enter student id:6\n",
      "enter student name:jay\n",
      "enter student city:surat\n",
      "enter student contact number:8965321478\n",
      "enter student id:7\n",
      "enter student name:vikas\n",
      "enter student city:bardoli\n",
      "enter student contact number:7896541239\n",
      "enter student id:8\n",
      "enter student name:jugal\n",
      "enter student city:valod\n",
      "enter student contact number:9563214785\n",
      "enter student id:9\n",
      "enter student name:denil\n",
      "enter student city:mandvi\n",
      "enter student contact number:7894563259\n",
      "enter student id:10\n",
      "enter student name:hiren\n",
      "enter student city:valod\n",
      "enter student contact number:9632145879\n"
     ]
    }
   ],
   "source": [
    "for i in range(5):\n",
    "    sid=int(input(\"enter student id:\"))\n",
    "    sname=input(\"enter student name:\")\n",
    "    city=input(\"enter student city:\")\n",
    "    contact=int(input(\"enter student contact number:\"))\n",
    "    l=[sid,sname,city,contact]\n",
    "    p.append(l)"
   ]
  },
  {
   "cell_type": "code",
   "execution_count": 5,
   "id": "c0354307",
   "metadata": {},
   "outputs": [],
   "source": [
    "with open('C:\\sqlite3\\student.csv','w',newline='') as f:\n",
    "    file=csv.writer(f)\n",
    "    file.writerow(a)\n",
    "    file.writerows(records)\n",
    "    file.writerows(p)"
   ]
  },
  {
   "cell_type": "code",
   "execution_count": 6,
   "id": "7d5e2cd6",
   "metadata": {},
   "outputs": [
    {
     "name": "stdout",
     "output_type": "stream",
     "text": [
      "['sid', 'sname', 'city', 'contact']\n",
      "['1', 'raj', 'bharuch', '9632591232']\n",
      "['2', 'ved', 'bardoli', '9785785429']\n",
      "['3', 'om', 'surat', '8485963218']\n",
      "['4', 'ved', 'baroda', '9863521478']\n",
      "['5', 'trith', 'valod', '9930452161']\n",
      "['6', 'jay', 'surat', '8965321478']\n",
      "['7', 'vikas', 'bardoli', '7896541239']\n",
      "['8', 'jugal', 'valod', '9563214785']\n",
      "['9', 'denil', 'mandvi', '7894563259']\n",
      "['10', 'hiren', 'valod', '9632145879']\n"
     ]
    }
   ],
   "source": [
    "with open('C:\\sqlite3\\student.csv','r',newline='') as read:\n",
    "    all_record=csv.reader(read)\n",
    "    for records in all_record:\n",
    "        print(records)"
   ]
  },
  {
   "cell_type": "code",
   "execution_count": null,
   "id": "c4728672",
   "metadata": {},
   "outputs": [],
   "source": []
  }
 ],
 "metadata": {
  "kernelspec": {
   "display_name": "Python 3 (ipykernel)",
   "language": "python",
   "name": "python3"
  },
  "language_info": {
   "codemirror_mode": {
    "name": "ipython",
    "version": 3
   },
   "file_extension": ".py",
   "mimetype": "text/x-python",
   "name": "python",
   "nbconvert_exporter": "python",
   "pygments_lexer": "ipython3",
   "version": "3.11.4"
  }
 },
 "nbformat": 4,
 "nbformat_minor": 5
}
